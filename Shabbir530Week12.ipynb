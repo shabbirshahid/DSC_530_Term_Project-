{
 "cells": [
  {
   "cell_type": "markdown",
   "metadata": {},
   "source": [
    "# Week 12"
   ]
  },
  {
   "cell_type": "markdown",
   "metadata": {},
   "source": [
    "### Student Name: Syed Shahid Shabbir\n",
    "### DSC-530 - Week12 - Term Final Project\n",
    "### Filename: Shabbir530Week12"
   ]
  },
  {
   "cell_type": "markdown",
   "metadata": {},
   "source": [
    "## Term Final Project  :  Week 12\n",
    "  \n",
    "A minimum of 5 variables in your dataset used during your analysis (for help with selecting, the author made his selection on page 6 of your book). Consider what you think could have an impact on your question – remember this is never perfect, so don’t be worried if you miss one (Chapter 1).\n",
    "\n",
    "Describe what the 5 variables mean in the dataset (Chapter 1).\n",
    "\n",
    "Include a histogram of each of the 5 variables – in your summary and analysis, identify any outliers and explain the reasoning for them being outliers and how you believe they should be handled (Chapter 2).\n",
    "\n",
    "Include the other descriptive characteristics about the variables: Mean, Mode, Spread, and Tails (Chapter 2).\n",
    "\n",
    "Using pg. 29 of your text as an example, compare two scenarios in your data using a PMF. Reminder, this isn’t comparing two variables against each other – it is the same variable, but a different scenario. Almost like a filter. The example in the book is first babies compared to all other babies, it is still the same variable, but breaking the data out based on criteria we are exploring (Chapter 3).\n",
    "\n",
    "Create 1 CDF with one of your variables, using page 41-44 as your guide, what does this tell you about your variable and how does it address the question you are trying to answer (Chapter 4).\n",
    "\n",
    "Plot 1 analytical distribution and provide your analysis on how it applies to the dataset you have chosen (Chapter 5).\n",
    "\n",
    "Create two scatter plots comparing two variables and provide your analysis on correlation and causation. Remember, covariance, Pearson’s correlation, and Non-Linear Relationships should also be considered during your analysis (Chapter 7).\n",
    "\n",
    "Conduct a test on your hypothesis using one of the methods covered in Chapter 9.\n",
    "\n",
    "For this project, conduct a regression analysis on either one dependent and one explanatory variable, or multiple explanatory variables (Chapter 10 & 11)."
   ]
  },
  {
   "cell_type": "code",
   "execution_count": 1,
   "metadata": {
    "scrolled": false
   },
   "outputs": [],
   "source": [
    "from __future__ import print_function, division\n",
    "\n",
    "from sklearn.pipeline import make_pipeline\n",
    "from sklearn.model_selection import train_test_split\n",
    "from collections import Counter\n",
    "from sklearn.linear_model import LogisticRegression\n",
    "from sklearn.ensemble import RandomForestClassifier\n",
    "from sklearn.metrics import precision_score, recall_score, fbeta_score, confusion_matrix, precision_recall_curve, accuracy_score\n",
    "\n",
    "import statsmodels.formula.api as smf\n",
    "import pandas as pd\n",
    "import numpy as np\n",
    "import sys\n",
    "import seaborn as sns \n",
    "import matplotlib.pyplot as plt\n",
    "%matplotlib inline\n",
    "import matplotlib.gridspec as gridspec\n",
    "import thinkstats2\n",
    "import thinkplot\n",
    "import math\n",
    "import scipy.stats\n",
    "import density\n",
    "import hinc2\n",
    "import hinc\n",
    "import random\n",
    "import hypothesis\n",
    "import scatter"
   ]
  },
  {
   "cell_type": "code",
   "execution_count": 2,
   "metadata": {},
   "outputs": [],
   "source": [
    "# Read the dataset\n",
    "df = pd.read_csv('creditcard.csv')"
   ]
  },
  {
   "cell_type": "code",
   "execution_count": 3,
   "metadata": {},
   "outputs": [
    {
     "name": "stdout",
     "output_type": "stream",
     "text": [
      "Total time spanning: 2.0 days\n",
      "0.173 % of all transactions are fraud. \n"
     ]
    }
   ],
   "source": [
    "# How is data collected?\n",
    "print(\"Total time spanning: {:.1f} days\".format(df['Time'].max() / (3600 * 24.0)))\n",
    "print(\"{:.3f} % of all transactions are fraud. \".format(np.sum(df['Class']) / df.shape[0] * 100))"
   ]
  },
  {
   "cell_type": "code",
   "execution_count": 4,
   "metadata": {},
   "outputs": [
    {
     "data": {
      "text/plain": [
       "0    284315\n",
       "1       492\n",
       "Name: Class, dtype: int64"
      ]
     },
     "execution_count": 4,
     "metadata": {},
     "output_type": "execute_result"
    }
   ],
   "source": [
    "# Categorize Class variable into Fraud and Non-fraud\n",
    "df['Class'].value_counts()"
   ]
  },
  {
   "cell_type": "code",
   "execution_count": 5,
   "metadata": {
    "scrolled": true
   },
   "outputs": [
    {
     "data": {
      "text/html": [
       "<div>\n",
       "<style scoped>\n",
       "    .dataframe tbody tr th:only-of-type {\n",
       "        vertical-align: middle;\n",
       "    }\n",
       "\n",
       "    .dataframe tbody tr th {\n",
       "        vertical-align: top;\n",
       "    }\n",
       "\n",
       "    .dataframe thead th {\n",
       "        text-align: right;\n",
       "    }\n",
       "</style>\n",
       "<table border=\"1\" class=\"dataframe\">\n",
       "  <thead>\n",
       "    <tr style=\"text-align: right;\">\n",
       "      <th></th>\n",
       "      <th>Time</th>\n",
       "      <th>V1</th>\n",
       "      <th>V2</th>\n",
       "      <th>V3</th>\n",
       "      <th>V4</th>\n",
       "      <th>V5</th>\n",
       "      <th>V6</th>\n",
       "      <th>V7</th>\n",
       "      <th>V8</th>\n",
       "      <th>V9</th>\n",
       "      <th>...</th>\n",
       "      <th>V21</th>\n",
       "      <th>V22</th>\n",
       "      <th>V23</th>\n",
       "      <th>V24</th>\n",
       "      <th>V25</th>\n",
       "      <th>V26</th>\n",
       "      <th>V27</th>\n",
       "      <th>V28</th>\n",
       "      <th>Amount</th>\n",
       "      <th>Class</th>\n",
       "    </tr>\n",
       "  </thead>\n",
       "  <tbody>\n",
       "    <tr>\n",
       "      <th>0</th>\n",
       "      <td>0.0</td>\n",
       "      <td>-1.359807</td>\n",
       "      <td>-0.072781</td>\n",
       "      <td>2.536347</td>\n",
       "      <td>1.378155</td>\n",
       "      <td>-0.338321</td>\n",
       "      <td>0.462388</td>\n",
       "      <td>0.239599</td>\n",
       "      <td>0.098698</td>\n",
       "      <td>0.363787</td>\n",
       "      <td>...</td>\n",
       "      <td>-0.018307</td>\n",
       "      <td>0.277838</td>\n",
       "      <td>-0.110474</td>\n",
       "      <td>0.066928</td>\n",
       "      <td>0.128539</td>\n",
       "      <td>-0.189115</td>\n",
       "      <td>0.133558</td>\n",
       "      <td>-0.021053</td>\n",
       "      <td>149.62</td>\n",
       "      <td>0</td>\n",
       "    </tr>\n",
       "    <tr>\n",
       "      <th>1</th>\n",
       "      <td>0.0</td>\n",
       "      <td>1.191857</td>\n",
       "      <td>0.266151</td>\n",
       "      <td>0.166480</td>\n",
       "      <td>0.448154</td>\n",
       "      <td>0.060018</td>\n",
       "      <td>-0.082361</td>\n",
       "      <td>-0.078803</td>\n",
       "      <td>0.085102</td>\n",
       "      <td>-0.255425</td>\n",
       "      <td>...</td>\n",
       "      <td>-0.225775</td>\n",
       "      <td>-0.638672</td>\n",
       "      <td>0.101288</td>\n",
       "      <td>-0.339846</td>\n",
       "      <td>0.167170</td>\n",
       "      <td>0.125895</td>\n",
       "      <td>-0.008983</td>\n",
       "      <td>0.014724</td>\n",
       "      <td>2.69</td>\n",
       "      <td>0</td>\n",
       "    </tr>\n",
       "    <tr>\n",
       "      <th>2</th>\n",
       "      <td>1.0</td>\n",
       "      <td>-1.358354</td>\n",
       "      <td>-1.340163</td>\n",
       "      <td>1.773209</td>\n",
       "      <td>0.379780</td>\n",
       "      <td>-0.503198</td>\n",
       "      <td>1.800499</td>\n",
       "      <td>0.791461</td>\n",
       "      <td>0.247676</td>\n",
       "      <td>-1.514654</td>\n",
       "      <td>...</td>\n",
       "      <td>0.247998</td>\n",
       "      <td>0.771679</td>\n",
       "      <td>0.909412</td>\n",
       "      <td>-0.689281</td>\n",
       "      <td>-0.327642</td>\n",
       "      <td>-0.139097</td>\n",
       "      <td>-0.055353</td>\n",
       "      <td>-0.059752</td>\n",
       "      <td>378.66</td>\n",
       "      <td>0</td>\n",
       "    </tr>\n",
       "    <tr>\n",
       "      <th>3</th>\n",
       "      <td>1.0</td>\n",
       "      <td>-0.966272</td>\n",
       "      <td>-0.185226</td>\n",
       "      <td>1.792993</td>\n",
       "      <td>-0.863291</td>\n",
       "      <td>-0.010309</td>\n",
       "      <td>1.247203</td>\n",
       "      <td>0.237609</td>\n",
       "      <td>0.377436</td>\n",
       "      <td>-1.387024</td>\n",
       "      <td>...</td>\n",
       "      <td>-0.108300</td>\n",
       "      <td>0.005274</td>\n",
       "      <td>-0.190321</td>\n",
       "      <td>-1.175575</td>\n",
       "      <td>0.647376</td>\n",
       "      <td>-0.221929</td>\n",
       "      <td>0.062723</td>\n",
       "      <td>0.061458</td>\n",
       "      <td>123.50</td>\n",
       "      <td>0</td>\n",
       "    </tr>\n",
       "    <tr>\n",
       "      <th>4</th>\n",
       "      <td>2.0</td>\n",
       "      <td>-1.158233</td>\n",
       "      <td>0.877737</td>\n",
       "      <td>1.548718</td>\n",
       "      <td>0.403034</td>\n",
       "      <td>-0.407193</td>\n",
       "      <td>0.095921</td>\n",
       "      <td>0.592941</td>\n",
       "      <td>-0.270533</td>\n",
       "      <td>0.817739</td>\n",
       "      <td>...</td>\n",
       "      <td>-0.009431</td>\n",
       "      <td>0.798278</td>\n",
       "      <td>-0.137458</td>\n",
       "      <td>0.141267</td>\n",
       "      <td>-0.206010</td>\n",
       "      <td>0.502292</td>\n",
       "      <td>0.219422</td>\n",
       "      <td>0.215153</td>\n",
       "      <td>69.99</td>\n",
       "      <td>0</td>\n",
       "    </tr>\n",
       "  </tbody>\n",
       "</table>\n",
       "<p>5 rows × 31 columns</p>\n",
       "</div>"
      ],
      "text/plain": [
       "   Time        V1        V2        V3        V4        V5        V6        V7  \\\n",
       "0   0.0 -1.359807 -0.072781  2.536347  1.378155 -0.338321  0.462388  0.239599   \n",
       "1   0.0  1.191857  0.266151  0.166480  0.448154  0.060018 -0.082361 -0.078803   \n",
       "2   1.0 -1.358354 -1.340163  1.773209  0.379780 -0.503198  1.800499  0.791461   \n",
       "3   1.0 -0.966272 -0.185226  1.792993 -0.863291 -0.010309  1.247203  0.237609   \n",
       "4   2.0 -1.158233  0.877737  1.548718  0.403034 -0.407193  0.095921  0.592941   \n",
       "\n",
       "         V8        V9  ...       V21       V22       V23       V24       V25  \\\n",
       "0  0.098698  0.363787  ... -0.018307  0.277838 -0.110474  0.066928  0.128539   \n",
       "1  0.085102 -0.255425  ... -0.225775 -0.638672  0.101288 -0.339846  0.167170   \n",
       "2  0.247676 -1.514654  ...  0.247998  0.771679  0.909412 -0.689281 -0.327642   \n",
       "3  0.377436 -1.387024  ... -0.108300  0.005274 -0.190321 -1.175575  0.647376   \n",
       "4 -0.270533  0.817739  ... -0.009431  0.798278 -0.137458  0.141267 -0.206010   \n",
       "\n",
       "        V26       V27       V28  Amount  Class  \n",
       "0 -0.189115  0.133558 -0.021053  149.62      0  \n",
       "1  0.125895 -0.008983  0.014724    2.69      0  \n",
       "2 -0.139097 -0.055353 -0.059752  378.66      0  \n",
       "3 -0.221929  0.062723  0.061458  123.50      0  \n",
       "4  0.502292  0.219422  0.215153   69.99      0  \n",
       "\n",
       "[5 rows x 31 columns]"
      ]
     },
     "execution_count": 5,
     "metadata": {},
     "output_type": "execute_result"
    }
   ],
   "source": [
    "df.head()"
   ]
  },
  {
   "cell_type": "code",
   "execution_count": 6,
   "metadata": {},
   "outputs": [],
   "source": [
    "# The datasets contains transactions made by credit cards in September 2013 by european cardholders. The transactions occur in two days.\n",
    "# Time: The seconds elapsed between each transaction and the first transaction in the dataset\n",
    "# V1 to V28: are the principal components obtained with PCA.\n",
    "# Amount: Transaction amount in Euro\n",
    "# Class: The response variable and it takes value 1 in case of fraud and 0 otherwise. (0 = Normal transaction, 1 = Fraud)"
   ]
  },
  {
   "cell_type": "code",
   "execution_count": 7,
   "metadata": {
    "scrolled": true
   },
   "outputs": [
    {
     "data": {
      "text/plain": [
       "Time      0\n",
       "V1        0\n",
       "V2        0\n",
       "V3        0\n",
       "V4        0\n",
       "V5        0\n",
       "V6        0\n",
       "V7        0\n",
       "V8        0\n",
       "V9        0\n",
       "V10       0\n",
       "V11       0\n",
       "V12       0\n",
       "V13       0\n",
       "V14       0\n",
       "V15       0\n",
       "V16       0\n",
       "V17       0\n",
       "V18       0\n",
       "V19       0\n",
       "V20       0\n",
       "V21       0\n",
       "V22       0\n",
       "V23       0\n",
       "V24       0\n",
       "V25       0\n",
       "V26       0\n",
       "V27       0\n",
       "V28       0\n",
       "Amount    0\n",
       "Class     0\n",
       "dtype: int64"
      ]
     },
     "execution_count": 7,
     "metadata": {},
     "output_type": "execute_result"
    }
   ],
   "source": [
    "# Check to see if dataset has any missing values\n",
    "df.isnull().sum()"
   ]
  },
  {
   "cell_type": "code",
   "execution_count": 8,
   "metadata": {
    "scrolled": true
   },
   "outputs": [
    {
     "name": "stdout",
     "output_type": "stream",
     "text": [
      "<class 'pandas.core.frame.DataFrame'>\n",
      "RangeIndex: 284807 entries, 0 to 284806\n",
      "Data columns (total 31 columns):\n",
      " #   Column  Non-Null Count   Dtype  \n",
      "---  ------  --------------   -----  \n",
      " 0   Time    284807 non-null  float64\n",
      " 1   V1      284807 non-null  float64\n",
      " 2   V2      284807 non-null  float64\n",
      " 3   V3      284807 non-null  float64\n",
      " 4   V4      284807 non-null  float64\n",
      " 5   V5      284807 non-null  float64\n",
      " 6   V6      284807 non-null  float64\n",
      " 7   V7      284807 non-null  float64\n",
      " 8   V8      284807 non-null  float64\n",
      " 9   V9      284807 non-null  float64\n",
      " 10  V10     284807 non-null  float64\n",
      " 11  V11     284807 non-null  float64\n",
      " 12  V12     284807 non-null  float64\n",
      " 13  V13     284807 non-null  float64\n",
      " 14  V14     284807 non-null  float64\n",
      " 15  V15     284807 non-null  float64\n",
      " 16  V16     284807 non-null  float64\n",
      " 17  V17     284807 non-null  float64\n",
      " 18  V18     284807 non-null  float64\n",
      " 19  V19     284807 non-null  float64\n",
      " 20  V20     284807 non-null  float64\n",
      " 21  V21     284807 non-null  float64\n",
      " 22  V22     284807 non-null  float64\n",
      " 23  V23     284807 non-null  float64\n",
      " 24  V24     284807 non-null  float64\n",
      " 25  V25     284807 non-null  float64\n",
      " 26  V26     284807 non-null  float64\n",
      " 27  V27     284807 non-null  float64\n",
      " 28  V28     284807 non-null  float64\n",
      " 29  Amount  284807 non-null  float64\n",
      " 30  Class   284807 non-null  int64  \n",
      "dtypes: float64(30), int64(1)\n",
      "memory usage: 67.4 MB\n"
     ]
    }
   ],
   "source": [
    "# Datset format\n",
    "df.info()"
   ]
  },
  {
   "cell_type": "code",
   "execution_count": 9,
   "metadata": {
    "scrolled": false
   },
   "outputs": [
    {
     "data": {
      "image/png": "[encoded data removed]",
      "text/plain": [
       "<Figure size 432x288 with 1 Axes>"
      ]
     },
     "metadata": {
      "needs_background": "light"
     },
     "output_type": "display_data"
    },
    {
     "data": {
      "text/plain": [
       "<Figure size 576x432 with 0 Axes>"
      ]
     },
     "metadata": {},
     "output_type": "display_data"
    }
   ],
   "source": [
    "# Histogram showing counts of Fraud & Non-fraud transactions\n",
    "fraud = df[df.Class==1]\n",
    "normal = df[df.Class==0]\n",
    "\n",
    "fraud_hist = thinkstats2.Hist(fraud.Class)\n",
    "normal_hist = thinkstats2.Hist(normal.Class)\n",
    "\n",
    "thinkplot.Hist(fraud_hist, align='left', width=2, color='red')\n",
    "thinkplot.Hist(normal_hist, align='right', width=2, color='blue')\n",
    "thinkplot.Show(xlabel='Class (Blue:Non-Fraudulent,  Red:Fraudulent)', ylabel='Count')"
   ]
  },
  {
   "cell_type": "markdown",
   "metadata": {},
   "source": [
    "#### TASK 1\n",
    "##### A minimum of 5 variables in your dataset used during your analysis (for help with selecting, the author made his selection on page 6 of your book). Consider what you think could have an impact on your question –remember this is never perfect, so don’t be worried if you miss one (Chapter 1)."
   ]
  },
  {
   "cell_type": "code",
   "execution_count": 10,
   "metadata": {},
   "outputs": [],
   "source": [
    "# 1) Variable 'Class' \n",
    "# 2) Variable 'Time' \n",
    "# 3) Variable 'Amount' \n",
    "# 4) Variable 'V1' \n",
    "# 5) Variable 'V2 to V28' "
   ]
  },
  {
   "cell_type": "markdown",
   "metadata": {},
   "source": [
    "#### TASK 2\n",
    "##### Describe what the 5 variables mean in the dataset (Chapter 1)."
   ]
  },
  {
   "cell_type": "code",
   "execution_count": 11,
   "metadata": {},
   "outputs": [],
   "source": [
    "# 1) Variable 'Class' is the response variable and it takes value 1 in case of fraud and 0 otherwise.\n",
    "# 2) Variable 'Time' contains the seconds elapsed between each transaction and the first transaction in the dataset\n",
    "# 3) Variable 'Amount' is the transaction Amount, this feature can be used for example-dependent cost-sensitive learning\n",
    "# 4) Variable 'V1' the first principal component obtained with PCA, credit card holder with the first transaction\n",
    "# 5) Variable 'V2 to V28' the principal components obtained with PCA."
   ]
  },
  {
   "cell_type": "markdown",
   "metadata": {},
   "source": [
    "#### TASK 3\n",
    "##### Include a histogram of each of the 5 variables – in your summary and analysis, identify any outliers and explain the reasoning for them being outliers and how you believe they should be handled (Chapter 2)."
   ]
  },
  {
   "cell_type": "code",
   "execution_count": 12,
   "metadata": {
    "scrolled": false
   },
   "outputs": [
    {
     "data": {
      "image/png": "[encoded data removed]",
      "text/plain": [
       "<Figure size 432x288 with 1 Axes>"
      ]
     },
     "metadata": {
      "needs_background": "light"
     },
     "output_type": "display_data"
    },
    {
     "data": {
      "image/png": "[encoded data removed]",
      "text/plain": [
       "<Figure size 576x432 with 1 Axes>"
      ]
     },
     "metadata": {
      "needs_background": "light"
     },
     "output_type": "display_data"
    },
    {
     "data": {
      "image/png": "[encoded data removed]",
      "text/plain": [
       "<Figure size 576x432 with 1 Axes>"
      ]
     },
     "metadata": {
      "needs_background": "light"
     },
     "output_type": "display_data"
    },
    {
     "data": {
      "image/png": "[encoded data removed]",
      "text/plain": [
       "<Figure size 576x432 with 1 Axes>"
      ]
     },
     "metadata": {
      "needs_background": "light"
     },
     "output_type": "display_data"
    },
    {
     "data": {
      "image/png": "[encoded data removed]",
      "text/plain": [
       "<Figure size 576x432 with 1 Axes>"
      ]
     },
     "metadata": {
      "needs_background": "light"
     },
     "output_type": "display_data"
    },
    {
     "data": {
      "image/png": "[encoded data removed]",
      "text/plain": [
       "<Figure size 576x432 with 1 Axes>"
      ]
     },
     "metadata": {
      "needs_background": "light"
     },
     "output_type": "display_data"
    },
    {
     "data": {
      "text/plain": [
       "<Figure size 576x432 with 0 Axes>"
      ]
     },
     "metadata": {},
     "output_type": "display_data"
    }
   ],
   "source": [
    "thinkplot.PrePlot(rows=6)\n",
    "\n",
    "thinkplot.SubPlot(1)\n",
    "fraud_hist1 = thinkstats2.Hist(np.float64(fraud.Time).flatten())\n",
    "normal_hist1 = thinkstats2.Hist(np.float64(normal.Time).flatten())\n",
    "thinkplot.Hist(fraud_hist1, align='left', width=50, color='red')\n",
    "thinkplot.Hist(normal_hist1, align='right', width=50, color='blue')\n",
    "thinkplot.Show(xlabel='Time', ylabel='Count')\n",
    "\n",
    "thinkplot.SubPlot(2)\n",
    "fraud_hist1 = thinkstats2.Hist(fraud.Amount)\n",
    "normal_hist1 = thinkstats2.Hist(normal.Amount)\n",
    "thinkplot.Hist(fraud_hist1, align='left', width=50, color='red')\n",
    "thinkplot.Hist(normal_hist1, align='right', width=50, color='blue')\n",
    "thinkplot.Show(xlabel='Amount', ylabel='Count')\n",
    "\n",
    "thinkplot.SubPlot(3)\n",
    "fraud_hist2 = thinkstats2.Hist(fraud.V1)\n",
    "normal_hist2 = thinkstats2.Hist(normal.V1)\n",
    "thinkplot.Hist(fraud_hist2, align='left', width=50, color='red')\n",
    "thinkplot.Hist(normal_hist2, align='right', width=50, color='blue')\n",
    "thinkplot.Show(xlabel='V1', ylabel='Count')\n",
    "\n",
    "thinkplot.SubPlot(4)\n",
    "fraud_hist3 = thinkstats2.Hist(fraud.V2)\n",
    "normal_hist3 = thinkstats2.Hist(normal.V2)\n",
    "thinkplot.Hist(fraud_hist3, align='left', width=50, color='red')\n",
    "thinkplot.Hist(normal_hist3, align='right', width=50, color='blue')\n",
    "thinkplot.Show(xlabel='V2', ylabel='Count')\n",
    "\n",
    "thinkplot.SubPlot(5)\n",
    "fraud_hist4 = thinkstats2.Hist(fraud.V3)\n",
    "normal_hist4 = thinkstats2.Hist(normal.V3)\n",
    "thinkplot.Hist(fraud_hist4, align='left', width=50, color='red')\n",
    "thinkplot.Hist(normal_hist4, align='right', width=50, color='blue')\n",
    "thinkplot.Show(xlabel='V3', ylabel='Count')\n",
    "\n",
    "thinkplot.SubPlot(6)\n",
    "fraud_hist5 = thinkstats2.Hist(fraud.V4)\n",
    "normal_hist5 = thinkstats2.Hist(normal.V4)\n",
    "thinkplot.Hist(fraud_hist5, align='left', width=50, color='red')\n",
    "thinkplot.Hist(normal_hist5, align='right', width=50, color='blue')\n",
    "thinkplot.Show(xlabel='V4', ylabel='Count')"
   ]
  },
  {
   "cell_type": "markdown",
   "metadata": {},
   "source": [
    "#### TASK 4\n",
    "##### Include the other descriptive characteristics about the variables: Mean, Mode, Spread, and Tails (Chapter 2)."
   ]
  },
  {
   "cell_type": "code",
   "execution_count": 12,
   "metadata": {
    "scrolled": false
   },
   "outputs": [
    {
     "name": "stdout",
     "output_type": "stream",
     "text": [
      "Fraud transaction statistics\n",
      "count     492.000000\n",
      "mean      122.211321\n",
      "std       256.683288\n",
      "min         0.000000\n",
      "25%         1.000000\n",
      "50%         9.250000\n",
      "75%       105.890000\n",
      "max      2125.870000\n",
      "Name: Amount, dtype: float64\n",
      "\n",
      "Normal transaction statistics\n",
      "count    284315.000000\n",
      "mean         88.291022\n",
      "std         250.105092\n",
      "min           0.000000\n",
      "25%           5.650000\n",
      "50%          22.000000\n",
      "75%          77.050000\n",
      "max       25691.160000\n",
      "Name: Amount, dtype: float64\n"
     ]
    },
    {
     "data": {
      "text/html": [
       "<div>\n",
       "<style scoped>\n",
       "    .dataframe tbody tr th:only-of-type {\n",
       "        vertical-align: middle;\n",
       "    }\n",
       "\n",
       "    .dataframe tbody tr th {\n",
       "        vertical-align: top;\n",
       "    }\n",
       "\n",
       "    .dataframe thead th {\n",
       "        text-align: right;\n",
       "    }\n",
       "</style>\n",
       "<table border=\"1\" class=\"dataframe\">\n",
       "  <thead>\n",
       "    <tr style=\"text-align: right;\">\n",
       "      <th></th>\n",
       "      <th>Time</th>\n",
       "      <th>Amount</th>\n",
       "      <th>Class</th>\n",
       "      <th>V1</th>\n",
       "      <th>V2</th>\n",
       "      <th>V3</th>\n",
       "      <th>V4</th>\n",
       "    </tr>\n",
       "  </thead>\n",
       "  <tbody>\n",
       "    <tr>\n",
       "      <th>count</th>\n",
       "      <td>284807.000000</td>\n",
       "      <td>284807.000000</td>\n",
       "      <td>284807.000000</td>\n",
       "      <td>2.848070e+05</td>\n",
       "      <td>2.848070e+05</td>\n",
       "      <td>2.848070e+05</td>\n",
       "      <td>2.848070e+05</td>\n",
       "    </tr>\n",
       "    <tr>\n",
       "      <th>mean</th>\n",
       "      <td>94813.859575</td>\n",
       "      <td>88.349619</td>\n",
       "      <td>0.001727</td>\n",
       "      <td>3.918649e-15</td>\n",
       "      <td>5.682686e-16</td>\n",
       "      <td>-8.761736e-15</td>\n",
       "      <td>2.811118e-15</td>\n",
       "    </tr>\n",
       "    <tr>\n",
       "      <th>std</th>\n",
       "      <td>47488.145955</td>\n",
       "      <td>250.120109</td>\n",
       "      <td>0.041527</td>\n",
       "      <td>1.958696e+00</td>\n",
       "      <td>1.651309e+00</td>\n",
       "      <td>1.516255e+00</td>\n",
       "      <td>1.415869e+00</td>\n",
       "    </tr>\n",
       "    <tr>\n",
       "      <th>min</th>\n",
       "      <td>0.000000</td>\n",
       "      <td>0.000000</td>\n",
       "      <td>0.000000</td>\n",
       "      <td>-5.640751e+01</td>\n",
       "      <td>-7.271573e+01</td>\n",
       "      <td>-4.832559e+01</td>\n",
       "      <td>-5.683171e+00</td>\n",
       "    </tr>\n",
       "    <tr>\n",
       "      <th>25%</th>\n",
       "      <td>54201.500000</td>\n",
       "      <td>5.600000</td>\n",
       "      <td>0.000000</td>\n",
       "      <td>-9.203734e-01</td>\n",
       "      <td>-5.985499e-01</td>\n",
       "      <td>-8.903648e-01</td>\n",
       "      <td>-8.486401e-01</td>\n",
       "    </tr>\n",
       "    <tr>\n",
       "      <th>50%</th>\n",
       "      <td>84692.000000</td>\n",
       "      <td>22.000000</td>\n",
       "      <td>0.000000</td>\n",
       "      <td>1.810880e-02</td>\n",
       "      <td>6.548556e-02</td>\n",
       "      <td>1.798463e-01</td>\n",
       "      <td>-1.984653e-02</td>\n",
       "    </tr>\n",
       "    <tr>\n",
       "      <th>75%</th>\n",
       "      <td>139320.500000</td>\n",
       "      <td>77.165000</td>\n",
       "      <td>0.000000</td>\n",
       "      <td>1.315642e+00</td>\n",
       "      <td>8.037239e-01</td>\n",
       "      <td>1.027196e+00</td>\n",
       "      <td>7.433413e-01</td>\n",
       "    </tr>\n",
       "    <tr>\n",
       "      <th>max</th>\n",
       "      <td>172792.000000</td>\n",
       "      <td>25691.160000</td>\n",
       "      <td>1.000000</td>\n",
       "      <td>2.454930e+00</td>\n",
       "      <td>2.205773e+01</td>\n",
       "      <td>9.382558e+00</td>\n",
       "      <td>1.687534e+01</td>\n",
       "    </tr>\n",
       "  </tbody>\n",
       "</table>\n",
       "</div>"
      ],
      "text/plain": [
       "                Time         Amount          Class            V1  \\\n",
       "count  284807.000000  284807.000000  284807.000000  2.848070e+05   \n",
       "mean    94813.859575      88.349619       0.001727  3.918649e-15   \n",
       "std     47488.145955     250.120109       0.041527  1.958696e+00   \n",
       "min         0.000000       0.000000       0.000000 -5.640751e+01   \n",
       "25%     54201.500000       5.600000       0.000000 -9.203734e-01   \n",
       "50%     84692.000000      22.000000       0.000000  1.810880e-02   \n",
       "75%    139320.500000      77.165000       0.000000  1.315642e+00   \n",
       "max    172792.000000   25691.160000       1.000000  2.454930e+00   \n",
       "\n",
       "                 V2            V3            V4  \n",
       "count  2.848070e+05  2.848070e+05  2.848070e+05  \n",
       "mean   5.682686e-16 -8.761736e-15  2.811118e-15  \n",
       "std    1.651309e+00  1.516255e+00  1.415869e+00  \n",
       "min   -7.271573e+01 -4.832559e+01 -5.683171e+00  \n",
       "25%   -5.985499e-01 -8.903648e-01 -8.486401e-01  \n",
       "50%    6.548556e-02  1.798463e-01 -1.984653e-02  \n",
       "75%    8.037239e-01  1.027196e+00  7.433413e-01  \n",
       "max    2.205773e+01  9.382558e+00  1.687534e+01  "
      ]
     },
     "execution_count": 12,
     "metadata": {},
     "output_type": "execute_result"
    }
   ],
   "source": [
    "print(\"Fraud transaction statistics\")\n",
    "print(fraud['Amount'].describe())\n",
    "print(\"\\nNormal transaction statistics\")\n",
    "print(normal['Amount'].describe())\n",
    "\n",
    "df[['Time','Amount','Class','V1','V2','V3','V4']].describe()"
   ]
  },
  {
   "cell_type": "code",
   "execution_count": 13,
   "metadata": {},
   "outputs": [],
   "source": [
    "# Observations:\n",
    "# The mean value of fradulent transactions is 122.21 while mean value of valid transactions is only 88.29.\n",
    "# 50% of the fradulent transactions are below 10 while 50% of valid transactions are below 23.\n",
    "# 75% of the fradulent transactions are below 106 while 75% of valid transactions are below 78.\n",
    "# Max value of fradulent transaction is 2125.87 while max value of valid transaction is 25691.16"
   ]
  },
  {
   "cell_type": "markdown",
   "metadata": {},
   "source": [
    "#### TASK 5\n",
    "##### Using page 29 of your text as an example, compare two scenarios in your data using a PMF. Reminder, this isn’t comparing two variables against each other – it is the same variable, but a different scenario. Almost like a filter. The example in the book is first babies compared to all other babies, it is still the same variable, but breaking the data out based on criteria we are exploring (Chapter 3)."
   ]
  },
  {
   "cell_type": "code",
   "execution_count": 14,
   "metadata": {},
   "outputs": [],
   "source": [
    "pmf = thinkstats2.Pmf(df.Class, label='Class')"
   ]
  },
  {
   "cell_type": "code",
   "execution_count": 15,
   "metadata": {
    "scrolled": true
   },
   "outputs": [
    {
     "data": {
      "image/png": "[encoded data removed]",
      "text/plain": [
       "<Figure size 432x288 with 1 Axes>"
      ]
     },
     "metadata": {
      "needs_background": "light"
     },
     "output_type": "display_data"
    }
   ],
   "source": [
    "thinkplot.Hist(pmf)\n",
    "thinkplot.Config(xlabel='Class', ylabel='Class')"
   ]
  },
  {
   "cell_type": "code",
   "execution_count": 16,
   "metadata": {
    "scrolled": false
   },
   "outputs": [
    {
     "data": {
      "image/png": "[encoded data removed]",
      "text/plain": [
       "<Figure size 432x288 with 1 Axes>"
      ]
     },
     "metadata": {
      "needs_background": "light"
     },
     "output_type": "display_data"
    }
   ],
   "source": [
    "thinkplot.Pmf(pmf)\n",
    "thinkplot.Config(xlabel='Class', ylabel='Pmf')"
   ]
  },
  {
   "cell_type": "code",
   "execution_count": 17,
   "metadata": {
    "scrolled": true
   },
   "outputs": [],
   "source": [
    "fraud_pmf = thinkstats2.Pmf(fraud.Time, label='Fraud')\n",
    "normal_pmf = thinkstats2.Pmf(normal.Time, label='Normal')"
   ]
  },
  {
   "cell_type": "code",
   "execution_count": 18,
   "metadata": {
    "scrolled": true
   },
   "outputs": [
    {
     "data": {
      "image/png": "[encoded data removed]",
      "text/plain": [
       "<Figure size 432x288 with 1 Axes>"
      ]
     },
     "metadata": {
      "needs_background": "light"
     },
     "output_type": "display_data"
    }
   ],
   "source": [
    "width=10000\n",
    "axis = [0, 180000, 0.0025, 0.02]\n",
    "thinkplot.Hist(fraud_pmf, align='right', width=width)\n",
    "thinkplot.Hist(normal_pmf, align='left', width=width)\n",
    "thinkplot.Config(xlabel='Time', ylabel='PMF', axis=axis)"
   ]
  },
  {
   "cell_type": "markdown",
   "metadata": {},
   "source": [
    "#### TASK 6\n",
    "##### Create 1 CDF with one of your variables, using page 41-44 as your guide, what does this tell you about your variable and how does it address the question you are trying to answer (Chapter 4)."
   ]
  },
  {
   "cell_type": "code",
   "execution_count": 19,
   "metadata": {
    "scrolled": true
   },
   "outputs": [
    {
     "data": {
      "image/png": "[encoded data removed]",
      "text/plain": [
       "<Figure size 432x288 with 1 Axes>"
      ]
     },
     "metadata": {
      "needs_background": "light"
     },
     "output_type": "display_data"
    },
    {
     "data": {
      "text/plain": [
       "<Figure size 576x432 with 0 Axes>"
      ]
     },
     "metadata": {},
     "output_type": "display_data"
    }
   ],
   "source": [
    "cdf = thinkstats2.Cdf(df.Time, label='Time')\n",
    "thinkplot.Cdf(cdf)\n",
    "thinkplot.Show(xlabel='Time', ylabel='CDF')"
   ]
  },
  {
   "cell_type": "markdown",
   "metadata": {},
   "source": [
    "#### TASK 7\n",
    "##### Plot 1 analytical distribution and provide your analysis on how it applies to the dataset you have chosen (Chapter 5)."
   ]
  },
  {
   "cell_type": "code",
   "execution_count": 20,
   "metadata": {},
   "outputs": [],
   "source": [
    "amounts = df.Amount.dropna()"
   ]
  },
  {
   "cell_type": "code",
   "execution_count": 21,
   "metadata": {},
   "outputs": [],
   "source": [
    "def MakeNormalModel(amounts):\n",
    "    \n",
    "    cdf = thinkstats2.Cdf(amounts, label='Amount (in Euros)')\n",
    "\n",
    "    mean, var = thinkstats2.TrimmedMeanVar(amounts)\n",
    "    std = np.sqrt(var)\n",
    "    print('n, mean, std', len(amounts), mean, std)\n",
    "\n",
    "    xmin = mean - 4 * std\n",
    "    xmax = mean + 4 * std\n",
    "\n",
    "    xs, ps = thinkstats2.RenderNormalCdf(mean, std, xmin, xmax)\n",
    "    thinkplot.Plot(xs, ps, label='model', linewidth=4, color='0.8')\n",
    "    thinkplot.Cdf(cdf)"
   ]
  },
  {
   "cell_type": "code",
   "execution_count": 22,
   "metadata": {},
   "outputs": [
    {
     "name": "stdout",
     "output_type": "stream",
     "text": [
      "n, mean, std 284807 71.44127888187855 129.51284817810273\n"
     ]
    },
    {
     "data": {
      "image/png": "[encoded data removed]",
      "text/plain": [
       "<Figure size 432x288 with 1 Axes>"
      ]
     },
     "metadata": {
      "needs_background": "light"
     },
     "output_type": "display_data"
    }
   ],
   "source": [
    "MakeNormalModel(amounts)\n",
    "thinkplot.Config(title='Amounts of Transactions', xlabel='Amount (in Euros)',\n",
    "                 ylabel='CDF', loc='upper right')"
   ]
  },
  {
   "cell_type": "markdown",
   "metadata": {},
   "source": [
    "#### TASK 8\n",
    "##### Create two scatter plots comparing two variables and provide your analysis on correlation and causation. Remember, covariance, Pearson’s correlation, and NonLinear Relationships should also be considered during your analysis (Chapter 7)."
   ]
  },
  {
   "cell_type": "code",
   "execution_count": 23,
   "metadata": {
    "scrolled": false
   },
   "outputs": [
    {
     "data": {
      "image/png": "[encoded data removed]",
      "text/plain": [
       "<Figure size 432x288 with 1 Axes>"
      ]
     },
     "metadata": {
      "needs_background": "light"
     },
     "output_type": "display_data"
    }
   ],
   "source": [
    "thinkplot.Scatter(fraud.Time, fraud.Amount, alpha=0.5)\n",
    "thinkplot.Config(xlabel='Time (in seconds)',\n",
    "                 ylabel='Amount (in Euros)',\n",
    "                 axis=[0, 180000, 0, 3000],\n",
    "                 title = 'Amounts of Fraudulent Transactions',\n",
    "                 legend=False)"
   ]
  },
  {
   "cell_type": "code",
   "execution_count": 24,
   "metadata": {
    "scrolled": false
   },
   "outputs": [
    {
     "data": {
      "image/png": "[encoded data removed]",
      "text/plain": [
       "<Figure size 432x288 with 1 Axes>"
      ]
     },
     "metadata": {
      "needs_background": "light"
     },
     "output_type": "display_data"
    }
   ],
   "source": [
    "thinkplot.Scatter(normal.Time, normal.Amount, alpha=0.5)\n",
    "thinkplot.Config(xlabel='Time (in seconds)',\n",
    "                 ylabel='Amount (in Euros)',\n",
    "                 axis=[0, 180000, 0, 30000],\n",
    "                 title = 'Amounts of Normal Transactions',\n",
    "                 legend=False)"
   ]
  },
  {
   "cell_type": "code",
   "execution_count": 25,
   "metadata": {},
   "outputs": [],
   "source": [
    "def Cov(xs, ys, meanx=None, meany=None):\n",
    "    xs = np.asarray(xs)\n",
    "    ys = np.asarray(ys)\n",
    "\n",
    "    if meanx is None:\n",
    "        meanx = np.mean(xs)\n",
    "    if meany is None:\n",
    "        meany = np.mean(ys)\n",
    "\n",
    "    cov = np.dot(xs-meanx, ys-meany) / len(xs)\n",
    "    return cov\n",
    "\n",
    "\n",
    "def Corr(xs, ys):\n",
    "    xs = np.asarray(xs)\n",
    "    ys = np.asarray(ys)\n",
    "\n",
    "    meanx, varx = thinkstats2.MeanVar(xs)\n",
    "    meany, vary = thinkstats2.MeanVar(ys)\n",
    "\n",
    "    corr = Cov(xs, ys, meanx, meany) / np.sqrt(varx * vary)\n",
    "    return corr\n",
    "\n",
    "\n",
    "def SpearmanCorr(xs, ys):\n",
    "    xranks = pd.Series(xs).rank()\n",
    "    yranks = pd.Series(ys).rank()\n",
    "    return Corr(xranks, yranks)"
   ]
  },
  {
   "cell_type": "code",
   "execution_count": 26,
   "metadata": {
    "scrolled": true
   },
   "outputs": [
    {
     "name": "stdout",
     "output_type": "stream",
     "text": [
      "Covariance between Time and Amount for Non-Fraudulent transactions is:-126285.952\n",
      "Covariance between Time and Amount for Fraudulent transactions is:597140.066\n",
      "\n",
      "Pearson Correlation between Time and Amount for Non-Fraudulent transactions is:-0.0106\n",
      "Pearson Correlation between Time and Amount for Fraudulent transactions is:0.0487\n",
      "\n",
      "Spearman Correlation between Time and Amount for Non-Fraudulent transactions is:-0.0402\n",
      "Spearman Correlation between Time and Amount for Fraudulent transactions is:0.0164\n"
     ]
    }
   ],
   "source": [
    "print('Covariance between Time and Amount for Non-Fraudulent transactions is:{:.3f}'.format(Cov(normal.Time, normal.Amount)))\n",
    "print('Covariance between Time and Amount for Fraudulent transactions is:{:.3f}'.format(Cov(fraud.Time, fraud.Amount)))\n",
    "print('\\nPearson Correlation between Time and Amount for Non-Fraudulent transactions is:{:.4f}'.format(Corr(normal.Time, normal.Amount)))\n",
    "print('Pearson Correlation between Time and Amount for Fraudulent transactions is:{:.4f}'.format(Corr(fraud.Time, fraud.Amount)))\n",
    "print('\\nSpearman Correlation between Time and Amount for Non-Fraudulent transactions is:{:.4f}'.format(SpearmanCorr(normal.Time, normal.Amount)))\n",
    "print('Spearman Correlation between Time and Amount for Fraudulent transactions is:{:.4f}'.format(SpearmanCorr(fraud.Time, fraud.Amount)))"
   ]
  },
  {
   "cell_type": "code",
   "execution_count": 27,
   "metadata": {},
   "outputs": [],
   "source": [
    "# Time has negative correlation (-0.01) with Amount for Normal transactions. This means that they have absolutely no relevance with each other.\n",
    "# Time has positive, but very weak, correlation (0.05) with Amount for Fraudulent transactions."
   ]
  },
  {
   "cell_type": "markdown",
   "metadata": {},
   "source": [
    "#### TASK 9\n",
    "##### Conduct a test on your hypothesis using one of the methods covered in Chapter 9."
   ]
  },
  {
   "cell_type": "code",
   "execution_count": 28,
   "metadata": {},
   "outputs": [],
   "source": [
    "import hypothesis"
   ]
  },
  {
   "cell_type": "code",
   "execution_count": 29,
   "metadata": {},
   "outputs": [],
   "source": [
    "# set up functions to run the samples\n",
    "class DiffMeans(hypothesis.DiffMeansPermute):\n",
    "    \"\"\" Test a diff in means \"\"\"\n",
    "\n",
    "    def RunModel(self):\n",
    "        \"\"\" Run model for null hypothesis \"\"\"\n",
    "\n",
    "        g1 = np.random.choice(self.pool, self.n, replace=True)\n",
    "        g2 = np.random.choice(self.pool, self.m, replace=True)\n",
    "\n",
    "        return g1, g2\n",
    "\n",
    "def RunSampleTest(fraud, normal):\n",
    "    \"\"\" Test diff in mean \n",
    "    \"\"\"\n",
    "    \n",
    "    data = fraud.Amount.values, normal.Amount.values\n",
    "    ht = DiffMeans(data)\n",
    "    pVal = ht.PValue(iters=10000)\n",
    "\n",
    "    print(\"\\nMeans permute Transaction Amounts (in Euros)\")\n",
    "    print(\"P Value: {:.3f}\".format(pVal))\n",
    "    print(\"Actual: {:.3f}\".format(ht.actual))\n",
    "    print(\"T-test max: {:.3f}\".format(ht.MaxTestStat()))\n",
    "\n",
    "    \n",
    "    data = (fraud.Time.dropna().values,\n",
    "            normal.Time.dropna().values)\n",
    "    ht = hypothesis.DiffMeansPermute(data)\n",
    "    pVal = ht.PValue(iters=10000)\n",
    "    print(\"\\nMeans permute Transaction Times (in seconds)\")\n",
    "    print(\"P Value: {:.3f}\".format(pVal))\n",
    "    print(\"Actual: {:.3f}\".format(ht.actual))\n",
    "    print(\"T-test max: {:.3f}\".format(ht.MaxTestStat()))\n",
    "\n",
    "def RunTests(df, iters=1000):\n",
    "    \"\"\" Run tests from chap 9 \n",
    " \n",
    "    \"\"\"\n",
    "    n = len(df)\n",
    "    fraud = df[df.Class==1]\n",
    "    normal = df[df.Class==0]\n",
    "\n",
    "    # compare pregnancy lengths\n",
    "    data = fraud.Amount.values, normal.Amount.values\n",
    "    ht = hypothesis.DiffMeansPermute(data)\n",
    "    p1 = ht.PValue(iters=iters)\n",
    "\n",
    "    data = (fraud.Time.dropna().values,\n",
    "            normal.Time.dropna().values)\n",
    "    ht = hypothesis.DiffMeansPermute(data)\n",
    "    p2 = ht.PValue(iters=iters)\n",
    "\n",
    "    # test correlation\n",
    "    df2 = df.dropna(subset=['Amount', 'Time'])\n",
    "    data = df2.Amount.values, df2.Time.values\n",
    "    ht = hypothesis.CorrelationPermute(data)\n",
    "    p3 = ht.PValue(iters=iters)\n",
    "\n",
    "    # compare pregnancy lengths (chi-squared)\n",
    "    data = fraud.Amount.values, normal.Amount.values\n",
    "    ht = hypothesis.PregLengthTest(data)\n",
    "    p4 = ht.PValue(iters=iters)\n",
    "\n",
    "    print(\"{}\\t{:.3f}\\t{:.3f}\\t{:.3f}\\t{:.3f}\".format(n, p1, p2, p3, p4))"
   ]
  },
  {
   "cell_type": "code",
   "execution_count": 30,
   "metadata": {
    "scrolled": false
   },
   "outputs": [
    {
     "name": "stdout",
     "output_type": "stream",
     "text": [
      "\n",
      "Means permute Transaction Amounts (in Euros)\n",
      "P Value: 0.008\n",
      "Actual: 33.920\n",
      "T-test max: 71.557\n",
      "\n",
      "Means permute Transaction Times (in seconds)\n",
      "P Value: 0.000\n",
      "Actual: 14091.395\n",
      "T-test max: 8186.848\n"
     ]
    }
   ],
   "source": [
    "thinkstats2.RandomSeed(18)\n",
    "\n",
    "RunSampleTest(fraud, normal)"
   ]
  },
  {
   "cell_type": "code",
   "execution_count": 31,
   "metadata": {},
   "outputs": [
    {
     "name": "stdout",
     "output_type": "stream",
     "text": [
      "nval\t Test1\t  Test2\t  Test3\t  Test4\t\n",
      "284807\t0.002\t0.000\t0.000\t0.888\n",
      "142403\t0.020\t0.000\t0.000\t0.893\n",
      "71201\t0.035\t0.007\t0.016\t1.000\n",
      "35600\t0.216\t0.012\t0.000\t1.000\n",
      "17800\t0.874\t0.049\t0.272\t0.166\n",
      "8900\t0.572\t0.034\t0.433\t1.000\n"
     ]
    },
    {
     "name": "stderr",
     "output_type": "stream",
     "text": [
      "C:\\Users\\farid\\Desktop\\Syed\\bellevue university\\DSC530\\DSC530 Exercises\\Week12\\hypothesis.py:189: RuntimeWarning: invalid value encountered in true_divide\n",
      "  stat = sum((observed - expected)**2 / expected)\n"
     ]
    },
    {
     "name": "stdout",
     "output_type": "stream",
     "text": [
      "4450\t0.415\t0.600\t0.119\t0.000\n"
     ]
    }
   ],
   "source": [
    "n = len(df)\n",
    "print(\"nval\\t Test1\\t  Test2\\t  Test3\\t  Test4\\t\")\n",
    "for i in range(7):\n",
    "    sample = thinkstats2.SampleRows(df, n)\n",
    "    RunTests(sample)\n",
    "    n //= 2"
   ]
  },
  {
   "cell_type": "markdown",
   "metadata": {},
   "source": [
    "#### TASK 10\n",
    "##### For this project, conduct a regression analysis on either one dependent and one explanatory variable, or multiple explanatory variables (Chapter 10 & 11)."
   ]
  },
  {
   "cell_type": "code",
   "execution_count": 32,
   "metadata": {},
   "outputs": [],
   "source": [
    "import statsmodels.formula.api as smf\n",
    "\n",
    "formula = 'Amount ~ Time'\n",
    "\n",
    "model = smf.ols(formula, data=df)\n",
    "results = model.fit()"
   ]
  },
  {
   "cell_type": "code",
   "execution_count": 33,
   "metadata": {
    "scrolled": false
   },
   "outputs": [
    {
     "name": "stdout",
     "output_type": "stream",
     "text": [
      "                            OLS Regression Results                            \n",
      "==============================================================================\n",
      "Dep. Variable:                 Amount   R-squared:                       0.000\n",
      "Model:                            OLS   Adj. R-squared:                  0.000\n",
      "Method:                 Least Squares   F-statistic:                     31.98\n",
      "Date:                Fri, 18 Nov 2022   Prob (F-statistic):           1.56e-08\n",
      "Time:                        20:08:14   Log-Likelihood:            -1.9768e+06\n",
      "No. Observations:              284807   AIC:                         3.954e+06\n",
      "Df Residuals:                  284805   BIC:                         3.954e+06\n",
      "Df Model:                           1                                         \n",
      "Covariance Type:            nonrobust                                         \n",
      "==============================================================================\n",
      "                 coef    std err          t      P>|t|      [0.025      0.975]\n",
      "------------------------------------------------------------------------------\n",
      "Intercept     93.6413      1.047     89.480      0.000      91.590      95.692\n",
      "Time       -5.581e-05   9.87e-06     -5.655      0.000   -7.52e-05   -3.65e-05\n",
      "==============================================================================\n",
      "Omnibus:                   588284.473   Durbin-Watson:                   1.983\n",
      "Prob(Omnibus):                  0.000   Jarque-Bera (JB):       8495666990.381\n",
      "Skew:                          16.981   Prob(JB):                         0.00\n",
      "Kurtosis:                     848.432   Cond. No.                     2.37e+05\n",
      "==============================================================================\n",
      "\n",
      "Notes:\n",
      "[1] Standard Errors assume that the covariance matrix of the errors is correctly specified.\n",
      "[2] The condition number is large, 2.37e+05. This might indicate that there are\n",
      "strong multicollinearity or other numerical problems.\n"
     ]
    }
   ],
   "source": [
    "inter = results.params['Intercept']\n",
    "slope = results.params['Time']\n",
    "\n",
    "slope_pvalue = results.pvalues['Time']\n",
    "\n",
    "print(results.summary())"
   ]
  },
  {
   "cell_type": "code",
   "execution_count": 34,
   "metadata": {},
   "outputs": [
    {
     "data": {
      "text/plain": [
       "-5.581110856906319e-05"
      ]
     },
     "execution_count": 34,
     "metadata": {},
     "output_type": "execute_result"
    }
   ],
   "source": [
    "diff_amounts = normal.Amount.mean() - fraud.Amount.mean()\n",
    "\n",
    "diff_times = normal.Time.mean() - fraud.Time.mean()\n",
    "\n",
    "results = smf.ols('Amount ~ Time', data=df).fit()\n",
    "slope = results.params['Time']\n",
    "slope"
   ]
  },
  {
   "cell_type": "code",
   "execution_count": 35,
   "metadata": {
    "scrolled": true
   },
   "outputs": [
    {
     "data": {
      "text/plain": [
       "-0.7864563956283411"
      ]
     },
     "execution_count": 35,
     "metadata": {},
     "output_type": "execute_result"
    }
   ],
   "source": [
    "slope * diff_times"
   ]
  },
  {
   "cell_type": "markdown",
   "metadata": {},
   "source": [
    "#### Conclusions:\n",
    "1. The given data is highly imbalanced as 99.9982% of data belonging to class 0 and just .0017% data belonging to class 1.\n",
    "2. In given data 75% of the transactions are of amount below 78.\n",
    "3. The min value of transaction made is 0.00 and max value of transaction is 25691.16\n",
    "4. Out of 284k transactions 1825 transactions were made which had zero value.\n",
    "5. Out of these transactions only 27 were fraudulent and 1798 legal transactions.\n",
    "6. The mean value of fraudulent transactions is 122.21 while mean value of valid transactions is only 88.29.\n",
    "7. 50% of the fraudulent transactions are below 10 while 50% of valid transactions is below 22.\n",
    "8. 75% of the fraudulent transactions are below 106 while 75% of valid transactions are below 77.\n",
    "9. Max value of fraudulent transaction is 2125.87 while max value of valid transaction is 25691.16\n",
    "10. More fraudulent transaction occurs between first 12 hours and between 23rd and 30th hour.\n",
    "11. If transaction were recorded from 12'o clock midnight then we can observe that during morning hours there is more chance of occurrence of fraud transactions. During rest of the time more chance that legal transaction will occur.\n",
    "12. On the first day 20.5% of the total fraudulent transactions were done in less than 10 hours.\n",
    "13. On the second day 14.02% of the total fraudulent transactions were done in less than 6 hours.\n",
    "14. 93.22% of all the legal transactions(Class 0) have V4 value less than 2.\n",
    "15. 80.04% of all the fraudulent transactions(Class 1) have V4 value greater than 2.\n",
    "16. 96.76% of valid transactions (Class 0) have V9 > -2.\n",
    "17. 52.23% of fraudulent transaactions (Class 1) have V9 < -2.\n",
    "18. 96.52% of legal transactions (Class 0) have V3 > -2.7.\n",
    "19. 71.11% of fraudulent transactions (Class 1) have V3 < -2.7.\n",
    "20. 99% of the legal transactions are of value less than 2000.\n",
    "21. 99% of the fraudulent transactions are of value less than 1250."
   ]
  },
  {
   "cell_type": "code",
   "execution_count": null,
   "metadata": {},
   "outputs": [],
   "source": []
  }
 ],
 "metadata": {
  "kernelspec": {
   "display_name": "Python 3 (ipykernel)",
   "language": "python",
   "name": "python3"
  },
  "language_info": {
   "codemirror_mode": {
    "name": "ipython",
    "version": 3
   },
   "file_extension": ".py",
   "mimetype": "text/x-python",
   "name": "python",
   "nbconvert_exporter": "python",
   "pygments_lexer": "ipython3",
   "version": "3.9.12"
  }
 },
 "nbformat": 4,
 "nbformat_minor": 2
}
